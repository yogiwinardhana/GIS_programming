{
  "cells": [
    {
      "cell_type": "markdown",
      "metadata": {
        "id": "view-in-github",
        "colab_type": "text"
      },
      "source": [
        "<a href=\"https://colab.research.google.com/github/yogiwinardhana/GIS_programming/blob/main/2_compress_drone_imagery.ipynb\" target=\"_parent\"><img src=\"https://colab.research.google.com/assets/colab-badge.svg\" alt=\"Open In Colab\"/></a>"
      ]
    },
    {
      "cell_type": "code",
      "execution_count": 1,
      "metadata": {
        "colab": {
          "base_uri": "https://localhost:8080/"
        },
        "id": "4y636dfdrFEJ",
        "outputId": "8f70064d-81ad-4fcc-927b-eea3cb42426a"
      },
      "outputs": [
        {
          "output_type": "stream",
          "name": "stdout",
          "text": [
            "Mounted at /content/drive\n"
          ]
        }
      ],
      "source": [
        "from google.colab import drive\n",
        "drive.mount('/content/drive')"
      ]
    },
    {
      "cell_type": "code",
      "execution_count": 2,
      "metadata": {
        "colab": {
          "base_uri": "https://localhost:8080/"
        },
        "id": "x4cmnMbSu9iR",
        "outputId": "442aea73-5d4c-495b-ce89-18c889755ea2"
      },
      "outputs": [
        {
          "output_type": "stream",
          "name": "stdout",
          "text": [
            "Requirement already satisfied: GDAL in /usr/local/lib/python3.10/dist-packages (3.6.4)\n"
          ]
        }
      ],
      "source": [
        "!pip install GDAL"
      ]
    },
    {
      "cell_type": "code",
      "source": [
        "# create output dir\n",
        "OUTPUT_PATH = 'output'\n",
        "os.makedirs('output', exist_ok=True)\n",
        "\n",
        "INPUT_IMG = '/content/drive/MyDrive/2_geospatial_project/compress_drone_imagery/dummy_aerial_5cm.tif'\n",
        "OUTPUT_IMG = '/content/output/dummy_aerial_10cm.tif'"
      ],
      "metadata": {
        "id": "CFcaYEgQBHyC"
      },
      "execution_count": 16,
      "outputs": []
    },
    {
      "cell_type": "code",
      "execution_count": 17,
      "metadata": {
        "id": "OO9KLvEcuzin"
      },
      "outputs": [],
      "source": [
        "import os\n",
        "import sys"
      ]
    },
    {
      "cell_type": "code",
      "execution_count": 18,
      "metadata": {
        "id": "PumKvyLdvMWY"
      },
      "outputs": [],
      "source": [
        "from Resolution import Resolution # make sure to download it first"
      ]
    },
    {
      "cell_type": "code",
      "execution_count": 19,
      "metadata": {
        "id": "tDgDO4m3zqae"
      },
      "outputs": [],
      "source": [
        "drone_img = Resolution(INPUT_IMG,\n",
        "                       OUTPUT_IMG)"
      ]
    },
    {
      "cell_type": "code",
      "execution_count": 20,
      "metadata": {
        "colab": {
          "base_uri": "https://localhost:8080/"
        },
        "id": "WuMUBKekvU7D",
        "outputId": "6e8ab432-9666-4047-ab08-9d074201d4cf"
      },
      "outputs": [
        {
          "output_type": "stream",
          "name": "stdout",
          "text": [
            "X Resolution: 0.1 units per pixel\n",
            "Y Resolution: 0.1 units per pixel\n"
          ]
        },
        {
          "output_type": "execute_result",
          "data": {
            "text/plain": [
              "(0.1, 0.1)"
            ]
          },
          "metadata": {},
          "execution_count": 20
        }
      ],
      "source": [
        "drone_img.get_resolution()"
      ]
    },
    {
      "cell_type": "code",
      "execution_count": 21,
      "metadata": {
        "colab": {
          "base_uri": "https://localhost:8080/"
        },
        "id": "jzxKCWPGzchn",
        "outputId": "92a6f354-0082-4db8-b86d-918fb3cf580b"
      },
      "outputs": [
        {
          "output_type": "stream",
          "name": "stdout",
          "text": [
            "Drone imagery compressed\n"
          ]
        }
      ],
      "source": [
        "drone_img.resample_raster(0.1, 0.1)"
      ]
    },
    {
      "cell_type": "markdown",
      "source": [
        "# Check Metadata"
      ],
      "metadata": {
        "id": "qXVUzDLxCyMd"
      }
    },
    {
      "cell_type": "code",
      "source": [
        "from osgeo import gdal, osr\n",
        "from os.path import exists\n",
        "from osgeo import gdal\n",
        "\n",
        "def GetGeoInfo(FileName):\n",
        "    \"\"\"This gets information from the raster file using gdal\n",
        "\n",
        "    Args:\n",
        "        FileName (str): The filename (with path and extension) of the raster.\n",
        "\n",
        "    Return:\n",
        "        tuple: A tuple containing:\n",
        "            - NDV (float): The nodata value.\n",
        "            - xsize (int): Cell size in the x-direction.\n",
        "            - ysize (int): Cell size in the y-direction.\n",
        "            - GeoT (tuple): The transform parameters (a tuple of 6 values).\n",
        "            - Projection (str): The Projection as a WKT string.\n",
        "            - DataType (str): The data type of the raster.\n",
        "\n",
        "    Author: SMM\n",
        "    \"\"\"\n",
        "\n",
        "    if not exists(FileName):\n",
        "        raise FileNotFoundError(f\"The file '{FileName}' does not exist.\")\n",
        "\n",
        "    SourceDS = gdal.Open(FileName, gdal.GA_ReadOnly)\n",
        "    if SourceDS is None:\n",
        "        raise Exception(\"Unable to read the data file\")\n",
        "\n",
        "    NDV = SourceDS.GetRasterBand(1).GetNoDataValue()\n",
        "    xsize = SourceDS.RasterXSize\n",
        "    ysize = SourceDS.RasterYSize\n",
        "    GeoT = SourceDS.GetGeoTransform()\n",
        "    Projection = osr.SpatialReference()\n",
        "    Projection.ImportFromWkt(SourceDS.GetProjectionRef())\n",
        "    DataType = SourceDS.GetRasterBand(1).DataType\n",
        "\n",
        "    # return NDV, xsize, ysize, GeoT, Projection.ExportToWkt(), DataType\n",
        "    return Projection.ExportToWkt()"
      ],
      "metadata": {
        "id": "-RfAPpXMCRGJ"
      },
      "execution_count": 22,
      "outputs": []
    },
    {
      "cell_type": "code",
      "source": [
        "metadata = GetGeoInfo(INPUT_IMG)\n",
        "metadata"
      ],
      "metadata": {
        "colab": {
          "base_uri": "https://localhost:8080/",
          "height": 104
        },
        "id": "eR-MxY08CUaV",
        "outputId": "1b4ee53f-c17d-445e-9a0a-f1a5b68d18d2"
      },
      "execution_count": 31,
      "outputs": [
        {
          "output_type": "execute_result",
          "data": {
            "text/plain": [
              "'PROJCS[\"WGS 84 / UTM zone 56S\",GEOGCS[\"WGS 84\",DATUM[\"WGS_1984\",SPHEROID[\"WGS 84\",6378137,298.257223563,AUTHORITY[\"EPSG\",\"7030\"]],AUTHORITY[\"EPSG\",\"6326\"]],PRIMEM[\"Greenwich\",0,AUTHORITY[\"EPSG\",\"8901\"]],UNIT[\"degree\",0.0174532925199433,AUTHORITY[\"EPSG\",\"9122\"]],AUTHORITY[\"EPSG\",\"4326\"]],PROJECTION[\"Transverse_Mercator\"],PARAMETER[\"latitude_of_origin\",0],PARAMETER[\"central_meridian\",153],PARAMETER[\"scale_factor\",0.9996],PARAMETER[\"false_easting\",500000],PARAMETER[\"false_northing\",10000000],UNIT[\"metre\",1,AUTHORITY[\"EPSG\",\"9001\"]],AXIS[\"Easting\",EAST],AXIS[\"Northing\",NORTH],AUTHORITY[\"EPSG\",\"32756\"]]'"
            ],
            "application/vnd.google.colaboratory.intrinsic+json": {
              "type": "string"
            }
          },
          "metadata": {},
          "execution_count": 31
        }
      ]
    }
  ],
  "metadata": {
    "colab": {
      "provenance": [],
      "include_colab_link": true
    },
    "kernelspec": {
      "display_name": "Python 3",
      "name": "python3"
    },
    "language_info": {
      "name": "python"
    }
  },
  "nbformat": 4,
  "nbformat_minor": 0
}